{
  "cells": [
    {
      "cell_type": "markdown",
      "metadata": {
        "id": "view-in-github",
        "colab_type": "text"
      },
      "source": [
        "<a href=\"https://colab.research.google.com/github/raihankr/ml-sentiment-analysis/blob/main/sentiment_analysis.ipynb\" target=\"_parent\"><img src=\"https://colab.research.google.com/assets/colab-badge.svg\" alt=\"Open In Colab\"/></a>"
      ]
    },
    {
      "cell_type": "markdown",
      "metadata": {
        "id": "Dpr_GVUonWxW"
      },
      "source": [
        "# Dicoding - Projek Analisis Sentimen\n",
        "Dibuat oleh: Raihan Khairul Rochman\n",
        "\n",
        "**Objektif:**  \n",
        "Menganalisis sentimen pada ulasan pengguna terhadap aplikasi **Pinterest** di Play Store"
      ]
    },
    {
      "cell_type": "markdown",
      "metadata": {
        "id": "j28-4b7En2V3"
      },
      "source": [
        "# Import Library"
      ]
    },
    {
      "cell_type": "code",
      "execution_count": 1,
      "metadata": {
        "colab": {
          "base_uri": "https://localhost:8080/",
          "height": 690
        },
        "id": "iDJhayuUn1wJ",
        "outputId": "1fe23ee6-85bd-4030-aa06-ec7d6665b9b6"
      },
      "outputs": [
        {
          "output_type": "stream",
          "name": "stdout",
          "text": [
            "Collecting google_play_scraper\n",
            "  Downloading google_play_scraper-1.2.7-py3-none-any.whl.metadata (50 kB)\n",
            "\u001b[?25l     \u001b[90m━━━━━━━━━━━━━━━━━━━━━━━━━━━━━━━━━━━━━━━━\u001b[0m \u001b[32m0.0/50.2 kB\u001b[0m \u001b[31m?\u001b[0m eta \u001b[36m-:--:--\u001b[0m\r\u001b[2K     \u001b[90m━━━━━━━━━━━━━━━━━━━━━━━━━━━━━━━━━━━━━━━━\u001b[0m \u001b[32m50.2/50.2 kB\u001b[0m \u001b[31m3.2 MB/s\u001b[0m eta \u001b[36m0:00:00\u001b[0m\n",
            "\u001b[?25hDownloading google_play_scraper-1.2.7-py3-none-any.whl (28 kB)\n",
            "Installing collected packages: google_play_scraper\n",
            "Successfully installed google_play_scraper-1.2.7\n",
            "Collecting bahasa\n",
            "  Downloading bahasa-1.0.1.tar.gz (100 kB)\n",
            "\u001b[2K     \u001b[90m━━━━━━━━━━━━━━━━━━━━━━━━━━━━━━━━━━━━━━━━\u001b[0m \u001b[32m100.4/100.4 kB\u001b[0m \u001b[31m4.4 MB/s\u001b[0m eta \u001b[36m0:00:00\u001b[0m\n",
            "\u001b[?25h  Preparing metadata (setup.py) ... \u001b[?25l\u001b[?25hdone\n",
            "Collecting six==1.10.0 (from bahasa)\n",
            "  Downloading six-1.10.0-py2.py3-none-any.whl.metadata (1.3 kB)\n",
            "Downloading six-1.10.0-py2.py3-none-any.whl (10 kB)\n",
            "Building wheels for collected packages: bahasa\n",
            "  Building wheel for bahasa (setup.py) ... \u001b[?25l\u001b[?25hdone\n",
            "  Created wheel for bahasa: filename=bahasa-1.0.1-py3-none-any.whl size=115094 sha256=0686da6f41d3e42861d94fd78381ea331b37b30ff6ece07044862bab5a4b0e13\n",
            "  Stored in directory: /root/.cache/pip/wheels/2c/73/6b/817daacb9b1fb7fbdc3a6d146814408ea97d597c4258c207c8\n",
            "Successfully built bahasa\n",
            "Installing collected packages: six, bahasa\n",
            "  Attempting uninstall: six\n",
            "    Found existing installation: six 1.16.0\n",
            "    Uninstalling six-1.16.0:\n",
            "      Successfully uninstalled six-1.16.0\n",
            "\u001b[31mERROR: pip's dependency resolver does not currently take into account all the packages that are installed. This behaviour is the source of the following dependency conflicts.\n",
            "pydrive2 1.6.3 requires six>=1.13.0, but you have six 1.10.0 which is incompatible.\n",
            "gspread-dataframe 3.3.1 requires six>=1.12.0, but you have six 1.10.0 which is incompatible.\n",
            "tensorflow 2.17.0 requires six>=1.12.0, but you have six 1.10.0 which is incompatible.\u001b[0m\u001b[31m\n",
            "\u001b[0mSuccessfully installed bahasa-1.0.1 six-1.10.0\n"
          ]
        },
        {
          "output_type": "display_data",
          "data": {
            "application/vnd.colab-display-data+json": {
              "pip_warning": {
                "packages": [
                  "six"
                ]
              },
              "id": "6c6223a16e8c4036896b8dac85219f3f"
            }
          },
          "metadata": {}
        },
        {
          "output_type": "stream",
          "name": "stderr",
          "text": [
            "[nltk_data] Downloading package punkt to /root/nltk_data...\n",
            "[nltk_data]   Unzipping tokenizers/punkt.zip.\n",
            "[nltk_data] Downloading package stopwords to /root/nltk_data...\n",
            "[nltk_data]   Unzipping corpora/stopwords.zip.\n"
          ]
        }
      ],
      "source": [
        "!pip install google_play_scraper\n",
        "!pip install bahasa\n",
        "\n",
        "import re\n",
        "import csv\n",
        "import json\n",
        "import nltk\n",
        "import string\n",
        "import requests\n",
        "import numpy as np\n",
        "import pandas as pd\n",
        "from nltk.tokenize import word_tokenize\n",
        "from nltk.corpus import stopwords\n",
        "nltk.download('punkt')\n",
        "nltk.download('stopwords')\n",
        "from bahasa.stemmer import Stemmer\n",
        "from google_play_scraper import Sort, reviews\n",
        "from sklearn.model_selection import train_test_split\n",
        "from sklearn.metrics import accuracy_score\n",
        "from imblearn.over_sampling import RandomOverSampler\n",
        "from keras.models import Sequential\n",
        "from keras.layers import LSTM, Dense, Embedding, Dropout, GRU\n",
        "from keras.callbacks import Callback, EarlyStopping, ReduceLROnPlateau\n",
        "from tensorflow.keras.preprocessing.text import Tokenizer\n",
        "from tensorflow.keras.preprocessing.sequence import pad_sequences\n",
        "from tensorflow.keras.optimizers import Adam"
      ]
    },
    {
      "cell_type": "markdown",
      "metadata": {
        "id": "Kjc4yU7HoCmG"
      },
      "source": [
        "# Data Scraping"
      ]
    },
    {
      "cell_type": "code",
      "execution_count": 2,
      "metadata": {
        "id": "mM5EjCPLoJpw"
      },
      "outputs": [],
      "source": [
        "scraped_data, token = reviews(\n",
        "    'com.pinterest',\n",
        "    lang='id',\n",
        "    country='id',\n",
        "    sort=Sort.MOST_RELEVANT,\n",
        "    count=18000,\n",
        ")"
      ]
    },
    {
      "cell_type": "code",
      "execution_count": 3,
      "metadata": {
        "id": "N2yMxQxf3_aX"
      },
      "outputs": [],
      "source": [
        "with open('reviews.csv', mode='w', newline='', encoding='utf-8') as file:\n",
        "    writer = csv.writer(file)\n",
        "    writer.writerow(['Review'])\n",
        "    for review in scraped_data:\n",
        "        writer.writerow([review['content']])"
      ]
    },
    {
      "cell_type": "markdown",
      "metadata": {
        "id": "US9dX6gjD9WM"
      },
      "source": [
        "# Load & Clean Dataset"
      ]
    },
    {
      "cell_type": "code",
      "execution_count": 4,
      "metadata": {
        "id": "cEJ2SaSfBCK-"
      },
      "outputs": [],
      "source": [
        "df = pd.read_csv('reviews.csv')"
      ]
    },
    {
      "cell_type": "code",
      "execution_count": 5,
      "metadata": {
        "id": "zC9RpL9dD41A"
      },
      "outputs": [],
      "source": [
        "df = df.dropna().drop_duplicates()"
      ]
    },
    {
      "cell_type": "code",
      "execution_count": 6,
      "metadata": {
        "id": "mW9OTesmuR6U",
        "colab": {
          "base_uri": "https://localhost:8080/",
          "height": 206
        },
        "outputId": "a500ab2c-2c7b-4ea4-9733-dc7f66b8e62b"
      },
      "outputs": [
        {
          "output_type": "execute_result",
          "data": {
            "text/plain": [
              "                                              Review\n",
              "0  Dev tolong diperbaiki saya sudah menemukan ban...\n",
              "1  Kendala di pencarian. Saat saya mencari dengan...\n",
              "2  Awalnya bagus cuma sekarang buruk banget karna...\n",
              "3  bagus, tapi belakangan ini suka loading lama b...\n",
              "4  Untuk aplikasinya sudah baik dan cukup menarik..."
            ],
            "text/html": [
              "\n",
              "  <div id=\"df-bcfdcfca-c75c-4461-b63e-8eef2991bfaa\" class=\"colab-df-container\">\n",
              "    <div>\n",
              "<style scoped>\n",
              "    .dataframe tbody tr th:only-of-type {\n",
              "        vertical-align: middle;\n",
              "    }\n",
              "\n",
              "    .dataframe tbody tr th {\n",
              "        vertical-align: top;\n",
              "    }\n",
              "\n",
              "    .dataframe thead th {\n",
              "        text-align: right;\n",
              "    }\n",
              "</style>\n",
              "<table border=\"1\" class=\"dataframe\">\n",
              "  <thead>\n",
              "    <tr style=\"text-align: right;\">\n",
              "      <th></th>\n",
              "      <th>Review</th>\n",
              "    </tr>\n",
              "  </thead>\n",
              "  <tbody>\n",
              "    <tr>\n",
              "      <th>0</th>\n",
              "      <td>Dev tolong diperbaiki saya sudah menemukan ban...</td>\n",
              "    </tr>\n",
              "    <tr>\n",
              "      <th>1</th>\n",
              "      <td>Kendala di pencarian. Saat saya mencari dengan...</td>\n",
              "    </tr>\n",
              "    <tr>\n",
              "      <th>2</th>\n",
              "      <td>Awalnya bagus cuma sekarang buruk banget karna...</td>\n",
              "    </tr>\n",
              "    <tr>\n",
              "      <th>3</th>\n",
              "      <td>bagus, tapi belakangan ini suka loading lama b...</td>\n",
              "    </tr>\n",
              "    <tr>\n",
              "      <th>4</th>\n",
              "      <td>Untuk aplikasinya sudah baik dan cukup menarik...</td>\n",
              "    </tr>\n",
              "  </tbody>\n",
              "</table>\n",
              "</div>\n",
              "    <div class=\"colab-df-buttons\">\n",
              "\n",
              "  <div class=\"colab-df-container\">\n",
              "    <button class=\"colab-df-convert\" onclick=\"convertToInteractive('df-bcfdcfca-c75c-4461-b63e-8eef2991bfaa')\"\n",
              "            title=\"Convert this dataframe to an interactive table.\"\n",
              "            style=\"display:none;\">\n",
              "\n",
              "  <svg xmlns=\"http://www.w3.org/2000/svg\" height=\"24px\" viewBox=\"0 -960 960 960\">\n",
              "    <path d=\"M120-120v-720h720v720H120Zm60-500h600v-160H180v160Zm220 220h160v-160H400v160Zm0 220h160v-160H400v160ZM180-400h160v-160H180v160Zm440 0h160v-160H620v160ZM180-180h160v-160H180v160Zm440 0h160v-160H620v160Z\"/>\n",
              "  </svg>\n",
              "    </button>\n",
              "\n",
              "  <style>\n",
              "    .colab-df-container {\n",
              "      display:flex;\n",
              "      gap: 12px;\n",
              "    }\n",
              "\n",
              "    .colab-df-convert {\n",
              "      background-color: #E8F0FE;\n",
              "      border: none;\n",
              "      border-radius: 50%;\n",
              "      cursor: pointer;\n",
              "      display: none;\n",
              "      fill: #1967D2;\n",
              "      height: 32px;\n",
              "      padding: 0 0 0 0;\n",
              "      width: 32px;\n",
              "    }\n",
              "\n",
              "    .colab-df-convert:hover {\n",
              "      background-color: #E2EBFA;\n",
              "      box-shadow: 0px 1px 2px rgba(60, 64, 67, 0.3), 0px 1px 3px 1px rgba(60, 64, 67, 0.15);\n",
              "      fill: #174EA6;\n",
              "    }\n",
              "\n",
              "    .colab-df-buttons div {\n",
              "      margin-bottom: 4px;\n",
              "    }\n",
              "\n",
              "    [theme=dark] .colab-df-convert {\n",
              "      background-color: #3B4455;\n",
              "      fill: #D2E3FC;\n",
              "    }\n",
              "\n",
              "    [theme=dark] .colab-df-convert:hover {\n",
              "      background-color: #434B5C;\n",
              "      box-shadow: 0px 1px 3px 1px rgba(0, 0, 0, 0.15);\n",
              "      filter: drop-shadow(0px 1px 2px rgba(0, 0, 0, 0.3));\n",
              "      fill: #FFFFFF;\n",
              "    }\n",
              "  </style>\n",
              "\n",
              "    <script>\n",
              "      const buttonEl =\n",
              "        document.querySelector('#df-bcfdcfca-c75c-4461-b63e-8eef2991bfaa button.colab-df-convert');\n",
              "      buttonEl.style.display =\n",
              "        google.colab.kernel.accessAllowed ? 'block' : 'none';\n",
              "\n",
              "      async function convertToInteractive(key) {\n",
              "        const element = document.querySelector('#df-bcfdcfca-c75c-4461-b63e-8eef2991bfaa');\n",
              "        const dataTable =\n",
              "          await google.colab.kernel.invokeFunction('convertToInteractive',\n",
              "                                                    [key], {});\n",
              "        if (!dataTable) return;\n",
              "\n",
              "        const docLinkHtml = 'Like what you see? Visit the ' +\n",
              "          '<a target=\"_blank\" href=https://colab.research.google.com/notebooks/data_table.ipynb>data table notebook</a>'\n",
              "          + ' to learn more about interactive tables.';\n",
              "        element.innerHTML = '';\n",
              "        dataTable['output_type'] = 'display_data';\n",
              "        await google.colab.output.renderOutput(dataTable, element);\n",
              "        const docLink = document.createElement('div');\n",
              "        docLink.innerHTML = docLinkHtml;\n",
              "        element.appendChild(docLink);\n",
              "      }\n",
              "    </script>\n",
              "  </div>\n",
              "\n",
              "\n",
              "<div id=\"df-a16662c5-45da-4315-8ca6-bb6028be0a6c\">\n",
              "  <button class=\"colab-df-quickchart\" onclick=\"quickchart('df-a16662c5-45da-4315-8ca6-bb6028be0a6c')\"\n",
              "            title=\"Suggest charts\"\n",
              "            style=\"display:none;\">\n",
              "\n",
              "<svg xmlns=\"http://www.w3.org/2000/svg\" height=\"24px\"viewBox=\"0 0 24 24\"\n",
              "     width=\"24px\">\n",
              "    <g>\n",
              "        <path d=\"M19 3H5c-1.1 0-2 .9-2 2v14c0 1.1.9 2 2 2h14c1.1 0 2-.9 2-2V5c0-1.1-.9-2-2-2zM9 17H7v-7h2v7zm4 0h-2V7h2v10zm4 0h-2v-4h2v4z\"/>\n",
              "    </g>\n",
              "</svg>\n",
              "  </button>\n",
              "\n",
              "<style>\n",
              "  .colab-df-quickchart {\n",
              "      --bg-color: #E8F0FE;\n",
              "      --fill-color: #1967D2;\n",
              "      --hover-bg-color: #E2EBFA;\n",
              "      --hover-fill-color: #174EA6;\n",
              "      --disabled-fill-color: #AAA;\n",
              "      --disabled-bg-color: #DDD;\n",
              "  }\n",
              "\n",
              "  [theme=dark] .colab-df-quickchart {\n",
              "      --bg-color: #3B4455;\n",
              "      --fill-color: #D2E3FC;\n",
              "      --hover-bg-color: #434B5C;\n",
              "      --hover-fill-color: #FFFFFF;\n",
              "      --disabled-bg-color: #3B4455;\n",
              "      --disabled-fill-color: #666;\n",
              "  }\n",
              "\n",
              "  .colab-df-quickchart {\n",
              "    background-color: var(--bg-color);\n",
              "    border: none;\n",
              "    border-radius: 50%;\n",
              "    cursor: pointer;\n",
              "    display: none;\n",
              "    fill: var(--fill-color);\n",
              "    height: 32px;\n",
              "    padding: 0;\n",
              "    width: 32px;\n",
              "  }\n",
              "\n",
              "  .colab-df-quickchart:hover {\n",
              "    background-color: var(--hover-bg-color);\n",
              "    box-shadow: 0 1px 2px rgba(60, 64, 67, 0.3), 0 1px 3px 1px rgba(60, 64, 67, 0.15);\n",
              "    fill: var(--button-hover-fill-color);\n",
              "  }\n",
              "\n",
              "  .colab-df-quickchart-complete:disabled,\n",
              "  .colab-df-quickchart-complete:disabled:hover {\n",
              "    background-color: var(--disabled-bg-color);\n",
              "    fill: var(--disabled-fill-color);\n",
              "    box-shadow: none;\n",
              "  }\n",
              "\n",
              "  .colab-df-spinner {\n",
              "    border: 2px solid var(--fill-color);\n",
              "    border-color: transparent;\n",
              "    border-bottom-color: var(--fill-color);\n",
              "    animation:\n",
              "      spin 1s steps(1) infinite;\n",
              "  }\n",
              "\n",
              "  @keyframes spin {\n",
              "    0% {\n",
              "      border-color: transparent;\n",
              "      border-bottom-color: var(--fill-color);\n",
              "      border-left-color: var(--fill-color);\n",
              "    }\n",
              "    20% {\n",
              "      border-color: transparent;\n",
              "      border-left-color: var(--fill-color);\n",
              "      border-top-color: var(--fill-color);\n",
              "    }\n",
              "    30% {\n",
              "      border-color: transparent;\n",
              "      border-left-color: var(--fill-color);\n",
              "      border-top-color: var(--fill-color);\n",
              "      border-right-color: var(--fill-color);\n",
              "    }\n",
              "    40% {\n",
              "      border-color: transparent;\n",
              "      border-right-color: var(--fill-color);\n",
              "      border-top-color: var(--fill-color);\n",
              "    }\n",
              "    60% {\n",
              "      border-color: transparent;\n",
              "      border-right-color: var(--fill-color);\n",
              "    }\n",
              "    80% {\n",
              "      border-color: transparent;\n",
              "      border-right-color: var(--fill-color);\n",
              "      border-bottom-color: var(--fill-color);\n",
              "    }\n",
              "    90% {\n",
              "      border-color: transparent;\n",
              "      border-bottom-color: var(--fill-color);\n",
              "    }\n",
              "  }\n",
              "</style>\n",
              "\n",
              "  <script>\n",
              "    async function quickchart(key) {\n",
              "      const quickchartButtonEl =\n",
              "        document.querySelector('#' + key + ' button');\n",
              "      quickchartButtonEl.disabled = true;  // To prevent multiple clicks.\n",
              "      quickchartButtonEl.classList.add('colab-df-spinner');\n",
              "      try {\n",
              "        const charts = await google.colab.kernel.invokeFunction(\n",
              "            'suggestCharts', [key], {});\n",
              "      } catch (error) {\n",
              "        console.error('Error during call to suggestCharts:', error);\n",
              "      }\n",
              "      quickchartButtonEl.classList.remove('colab-df-spinner');\n",
              "      quickchartButtonEl.classList.add('colab-df-quickchart-complete');\n",
              "    }\n",
              "    (() => {\n",
              "      let quickchartButtonEl =\n",
              "        document.querySelector('#df-a16662c5-45da-4315-8ca6-bb6028be0a6c button');\n",
              "      quickchartButtonEl.style.display =\n",
              "        google.colab.kernel.accessAllowed ? 'block' : 'none';\n",
              "    })();\n",
              "  </script>\n",
              "</div>\n",
              "\n",
              "    </div>\n",
              "  </div>\n"
            ],
            "application/vnd.google.colaboratory.intrinsic+json": {
              "type": "dataframe",
              "variable_name": "df",
              "summary": "{\n  \"name\": \"df\",\n  \"rows\": 17980,\n  \"fields\": [\n    {\n      \"column\": \"Review\",\n      \"properties\": {\n        \"dtype\": \"string\",\n        \"num_unique_values\": 17980,\n        \"samples\": [\n          \"Aplikasi pinterest emang bagus banget tp sayangnya gak ada download video jadi susah buat nyimpen harus ke google/web dlu ribet banget kalo bisa update lagi buat download video biar bagusssss\",\n          \"Mohon kepada pihak pinterest kalo mau rekomendasikan pin nya itu jangan pin yang dari akun pengguna yang saya blokir. Saya sudah sembunyikan pin pengguna itu tapi masih ada pin itu di halaman pinterest saya. Kalo akun itu sudah diblokir ya jangan direkomendasikan di halaman pinterest saya, dan juga jangan rekomendasikan pin yang berhubungan dengan pin yang saya sembunyikan/laporkan. Kata nya \\\"kami akan bantu menyempurnakan pinterest\\\" tapi kok malah bertentangan, cukup mengganggu sekali \\ud83e\\udd2c.\",\n          \"Ini bagus banget sih untuk para penulis wp. Ini memudahkan kita untun mencari vector dan cover untuk sampul story. Dan di APK ini gw sering banget cuci mata alias mencari Cogan. Wkwkwkw. Abis iti gw simpen deh di galeri gw. Hahaha\"\n        ],\n        \"semantic_type\": \"\",\n        \"description\": \"\"\n      }\n    }\n  ]\n}"
            }
          },
          "metadata": {},
          "execution_count": 6
        }
      ],
      "source": [
        "df.head()"
      ]
    },
    {
      "cell_type": "code",
      "execution_count": 7,
      "metadata": {
        "id": "fsUvXZfh0OrU",
        "colab": {
          "base_uri": "https://localhost:8080/"
        },
        "outputId": "7c6a1450-7df8-4647-fc2f-8f5d4032ac50"
      },
      "outputs": [
        {
          "output_type": "stream",
          "name": "stdout",
          "text": [
            "<class 'pandas.core.frame.DataFrame'>\n",
            "Index: 17980 entries, 0 to 17999\n",
            "Data columns (total 1 columns):\n",
            " #   Column  Non-Null Count  Dtype \n",
            "---  ------  --------------  ----- \n",
            " 0   Review  17980 non-null  object\n",
            "dtypes: object(1)\n",
            "memory usage: 280.9+ KB\n"
          ]
        }
      ],
      "source": [
        "df.info()"
      ]
    },
    {
      "cell_type": "markdown",
      "metadata": {
        "id": "-xqRXEHCm-q1"
      },
      "source": [
        "**Deskripsi Data**:\n",
        "\n",
        "---\n",
        "\n",
        "\n",
        "Saya mengambil data dari sekitar 18.000  ulasan pengguna paling relevan terhadap aplikasi *Pinterest* di *platform* Google Play Store"
      ]
    },
    {
      "cell_type": "markdown",
      "metadata": {
        "id": "dZILyMOpWfih"
      },
      "source": [
        "# Text Preprocessing"
      ]
    },
    {
      "cell_type": "code",
      "execution_count": 8,
      "metadata": {
        "id": "_BnS98DX2OxZ"
      },
      "outputs": [],
      "source": [
        "# Tambahan stopwords untuk bahasa Indonesia\n",
        "stopwords1 = pd.read_csv('https://raw.githubusercontent.com/ramaprakoso/analisis-sentimen/master/kamus/stopword.txt', header=None, names=['word'])\n",
        "stopwords1 = stopwords1['word'].to_list()"
      ]
    },
    {
      "cell_type": "code",
      "execution_count": 9,
      "metadata": {
        "id": "KpSLVXGQ-zKc"
      },
      "outputs": [],
      "source": [
        "response = requests.get('https://raw.githubusercontent.com/louisowen6/NLP_bahasa_resources/master/combined_slang_words.txt')\n",
        "slangwords = json.loads(response.text)"
      ]
    },
    {
      "cell_type": "code",
      "execution_count": 10,
      "metadata": {
        "id": "HNlsx5MgXyfr"
      },
      "outputs": [],
      "source": [
        "def cleanText(text):\n",
        "    result = re.sub(r\"(([@#]|https?:\\/\\/)\\S+|\\d|[^\\w\\s])\", \"\", text)\n",
        "    result.replace(\"\\n\", \" \")\n",
        "    result = result.translate(str.maketrans(\"\", \"\", string.punctuation))\n",
        "    result = result.strip(\" \")\n",
        "    return result\n",
        "\n",
        "casefoldingText = lambda text: text.lower()\n",
        "\n",
        "def fixSlangWords(words):\n",
        "    result = []\n",
        "    for word in words:\n",
        "        if word in slangwords:\n",
        "            result.append(slangwords[word])\n",
        "        else:\n",
        "            result.append(word)\n",
        "    return result\n",
        "\n",
        "def filterWords(words):\n",
        "    stopwords_list = set(stopwords.words('indonesian'))\n",
        "    stopwords_list.update(stopwords1)\n",
        "    stopwords_list.update(stopwords.words('english'))\n",
        "\n",
        "    result = []\n",
        "    for word in words:\n",
        "        if word not in stopwords_list:\n",
        "            result.append(word)\n",
        "    return result\n",
        "\n",
        "stemmer = Stemmer()\n",
        "\n",
        "toSentence = lambda words: ' '.join(words)"
      ]
    },
    {
      "cell_type": "code",
      "execution_count": 11,
      "metadata": {
        "id": "2Y07gWsGFssR"
      },
      "outputs": [],
      "source": [
        "df['Clean'] = df['Review'].apply(cleanText).apply(casefoldingText)\n",
        "df['Tokenized'] = df['Clean'].apply(word_tokenize)\n",
        "df['Formalized'] = df['Tokenized'].apply(fixSlangWords)\n",
        "df['Stemmed'] = df['Formalized']\\\n",
        "    .apply(toSentence)\\\n",
        "    .apply(stemmer.stem)\\\n",
        "    .apply(word_tokenize)\n",
        "df['Filtered'] = df['Stemmed'].apply(filterWords)\n",
        "df['Final'] = df ['Filtered'].apply(toSentence)"
      ]
    },
    {
      "cell_type": "markdown",
      "metadata": {
        "id": "kqlxKIy9Xvmc"
      },
      "source": [
        "# Data Labeling"
      ]
    },
    {
      "cell_type": "code",
      "execution_count": 12,
      "metadata": {
        "id": "_7uU_-IOCM1e"
      },
      "outputs": [],
      "source": [
        "lexicon_positive = pd.read_csv('https://raw.githubusercontent.com/fajri91/InSet/master/positive.tsv', delimiter='\\t', index_col=0).T.loc['weight'].to_dict()\n",
        "lexicon_negative = pd.read_csv('https://raw.githubusercontent.com/fajri91/InSet/master/negative.tsv', delimiter='\\t', index_col=0).T.loc['weight'].to_dict()"
      ]
    },
    {
      "cell_type": "code",
      "execution_count": 13,
      "metadata": {
        "id": "TPTuYZQsOxk0"
      },
      "outputs": [],
      "source": [
        "def sentiment_analysis(words):\n",
        "    score = 0\n",
        "    for word in words:\n",
        "        if word in lexicon_positive:\n",
        "            score += lexicon_positive[word]\n",
        "        if word in lexicon_negative:\n",
        "            score += lexicon_negative[word]\n",
        "    polarity: str\n",
        "    polarity4: str\n",
        "    polarity5: str\n",
        "\n",
        "    if score >= 3:\n",
        "        polarity = 'positive'\n",
        "    elif score <= -3:\n",
        "        polarity = 'negative'\n",
        "    else:\n",
        "        polarity = 'neutral'\n",
        "\n",
        "    if score > 4:\n",
        "        polarity4 = 'very_positive'\n",
        "    elif score > 0:\n",
        "        polarity4 = 'positive'\n",
        "    elif score >= -4:\n",
        "        polarity4 = 'negative'\n",
        "    else:\n",
        "        polarity4 = 'very_negative'\n",
        "\n",
        "    if score > 5:\n",
        "        polarity5 = 'very_positive'\n",
        "    elif score > 1:\n",
        "        polarity5 = 'positive'\n",
        "    elif score >= -1:\n",
        "        polarity5 = 'neutral'\n",
        "    elif score >= -5:\n",
        "        polarity5 = 'negative'\n",
        "    else:\n",
        "        polarity5 = 'very_negative'\n",
        "\n",
        "    return score, polarity, polarity4, polarity5"
      ]
    },
    {
      "cell_type": "code",
      "execution_count": 14,
      "metadata": {
        "id": "4SAu2wiKPkUY"
      },
      "outputs": [],
      "source": [
        "labeled = df['Filtered'].apply(sentiment_analysis)\n",
        "labeled = list(zip(*labeled))\n",
        "df['Score'], df['Polarity'], df['Polarity4'], df['Polarity5'] = labeled"
      ]
    },
    {
      "cell_type": "code",
      "execution_count": 15,
      "metadata": {
        "id": "S8H_S1h4RgpI",
        "colab": {
          "base_uri": "https://localhost:8080/",
          "height": 300
        },
        "outputId": "6fece7a4-b75e-4f81-9cd4-3c481af12e38"
      },
      "outputs": [
        {
          "output_type": "execute_result",
          "data": {
            "text/plain": [
              "              Score\n",
              "count  17980.000000\n",
              "mean      -2.639989\n",
              "std        7.009154\n",
              "min      -60.000000\n",
              "25%       -6.000000\n",
              "50%       -2.000000\n",
              "75%        2.000000\n",
              "max       49.000000"
            ],
            "text/html": [
              "\n",
              "  <div id=\"df-2ab5d688-1137-4409-b6af-f688af43a85f\" class=\"colab-df-container\">\n",
              "    <div>\n",
              "<style scoped>\n",
              "    .dataframe tbody tr th:only-of-type {\n",
              "        vertical-align: middle;\n",
              "    }\n",
              "\n",
              "    .dataframe tbody tr th {\n",
              "        vertical-align: top;\n",
              "    }\n",
              "\n",
              "    .dataframe thead th {\n",
              "        text-align: right;\n",
              "    }\n",
              "</style>\n",
              "<table border=\"1\" class=\"dataframe\">\n",
              "  <thead>\n",
              "    <tr style=\"text-align: right;\">\n",
              "      <th></th>\n",
              "      <th>Score</th>\n",
              "    </tr>\n",
              "  </thead>\n",
              "  <tbody>\n",
              "    <tr>\n",
              "      <th>count</th>\n",
              "      <td>17980.000000</td>\n",
              "    </tr>\n",
              "    <tr>\n",
              "      <th>mean</th>\n",
              "      <td>-2.639989</td>\n",
              "    </tr>\n",
              "    <tr>\n",
              "      <th>std</th>\n",
              "      <td>7.009154</td>\n",
              "    </tr>\n",
              "    <tr>\n",
              "      <th>min</th>\n",
              "      <td>-60.000000</td>\n",
              "    </tr>\n",
              "    <tr>\n",
              "      <th>25%</th>\n",
              "      <td>-6.000000</td>\n",
              "    </tr>\n",
              "    <tr>\n",
              "      <th>50%</th>\n",
              "      <td>-2.000000</td>\n",
              "    </tr>\n",
              "    <tr>\n",
              "      <th>75%</th>\n",
              "      <td>2.000000</td>\n",
              "    </tr>\n",
              "    <tr>\n",
              "      <th>max</th>\n",
              "      <td>49.000000</td>\n",
              "    </tr>\n",
              "  </tbody>\n",
              "</table>\n",
              "</div>\n",
              "    <div class=\"colab-df-buttons\">\n",
              "\n",
              "  <div class=\"colab-df-container\">\n",
              "    <button class=\"colab-df-convert\" onclick=\"convertToInteractive('df-2ab5d688-1137-4409-b6af-f688af43a85f')\"\n",
              "            title=\"Convert this dataframe to an interactive table.\"\n",
              "            style=\"display:none;\">\n",
              "\n",
              "  <svg xmlns=\"http://www.w3.org/2000/svg\" height=\"24px\" viewBox=\"0 -960 960 960\">\n",
              "    <path d=\"M120-120v-720h720v720H120Zm60-500h600v-160H180v160Zm220 220h160v-160H400v160Zm0 220h160v-160H400v160ZM180-400h160v-160H180v160Zm440 0h160v-160H620v160ZM180-180h160v-160H180v160Zm440 0h160v-160H620v160Z\"/>\n",
              "  </svg>\n",
              "    </button>\n",
              "\n",
              "  <style>\n",
              "    .colab-df-container {\n",
              "      display:flex;\n",
              "      gap: 12px;\n",
              "    }\n",
              "\n",
              "    .colab-df-convert {\n",
              "      background-color: #E8F0FE;\n",
              "      border: none;\n",
              "      border-radius: 50%;\n",
              "      cursor: pointer;\n",
              "      display: none;\n",
              "      fill: #1967D2;\n",
              "      height: 32px;\n",
              "      padding: 0 0 0 0;\n",
              "      width: 32px;\n",
              "    }\n",
              "\n",
              "    .colab-df-convert:hover {\n",
              "      background-color: #E2EBFA;\n",
              "      box-shadow: 0px 1px 2px rgba(60, 64, 67, 0.3), 0px 1px 3px 1px rgba(60, 64, 67, 0.15);\n",
              "      fill: #174EA6;\n",
              "    }\n",
              "\n",
              "    .colab-df-buttons div {\n",
              "      margin-bottom: 4px;\n",
              "    }\n",
              "\n",
              "    [theme=dark] .colab-df-convert {\n",
              "      background-color: #3B4455;\n",
              "      fill: #D2E3FC;\n",
              "    }\n",
              "\n",
              "    [theme=dark] .colab-df-convert:hover {\n",
              "      background-color: #434B5C;\n",
              "      box-shadow: 0px 1px 3px 1px rgba(0, 0, 0, 0.15);\n",
              "      filter: drop-shadow(0px 1px 2px rgba(0, 0, 0, 0.3));\n",
              "      fill: #FFFFFF;\n",
              "    }\n",
              "  </style>\n",
              "\n",
              "    <script>\n",
              "      const buttonEl =\n",
              "        document.querySelector('#df-2ab5d688-1137-4409-b6af-f688af43a85f button.colab-df-convert');\n",
              "      buttonEl.style.display =\n",
              "        google.colab.kernel.accessAllowed ? 'block' : 'none';\n",
              "\n",
              "      async function convertToInteractive(key) {\n",
              "        const element = document.querySelector('#df-2ab5d688-1137-4409-b6af-f688af43a85f');\n",
              "        const dataTable =\n",
              "          await google.colab.kernel.invokeFunction('convertToInteractive',\n",
              "                                                    [key], {});\n",
              "        if (!dataTable) return;\n",
              "\n",
              "        const docLinkHtml = 'Like what you see? Visit the ' +\n",
              "          '<a target=\"_blank\" href=https://colab.research.google.com/notebooks/data_table.ipynb>data table notebook</a>'\n",
              "          + ' to learn more about interactive tables.';\n",
              "        element.innerHTML = '';\n",
              "        dataTable['output_type'] = 'display_data';\n",
              "        await google.colab.output.renderOutput(dataTable, element);\n",
              "        const docLink = document.createElement('div');\n",
              "        docLink.innerHTML = docLinkHtml;\n",
              "        element.appendChild(docLink);\n",
              "      }\n",
              "    </script>\n",
              "  </div>\n",
              "\n",
              "\n",
              "<div id=\"df-aa988e42-95c7-42dd-a3f4-f0df123ae091\">\n",
              "  <button class=\"colab-df-quickchart\" onclick=\"quickchart('df-aa988e42-95c7-42dd-a3f4-f0df123ae091')\"\n",
              "            title=\"Suggest charts\"\n",
              "            style=\"display:none;\">\n",
              "\n",
              "<svg xmlns=\"http://www.w3.org/2000/svg\" height=\"24px\"viewBox=\"0 0 24 24\"\n",
              "     width=\"24px\">\n",
              "    <g>\n",
              "        <path d=\"M19 3H5c-1.1 0-2 .9-2 2v14c0 1.1.9 2 2 2h14c1.1 0 2-.9 2-2V5c0-1.1-.9-2-2-2zM9 17H7v-7h2v7zm4 0h-2V7h2v10zm4 0h-2v-4h2v4z\"/>\n",
              "    </g>\n",
              "</svg>\n",
              "  </button>\n",
              "\n",
              "<style>\n",
              "  .colab-df-quickchart {\n",
              "      --bg-color: #E8F0FE;\n",
              "      --fill-color: #1967D2;\n",
              "      --hover-bg-color: #E2EBFA;\n",
              "      --hover-fill-color: #174EA6;\n",
              "      --disabled-fill-color: #AAA;\n",
              "      --disabled-bg-color: #DDD;\n",
              "  }\n",
              "\n",
              "  [theme=dark] .colab-df-quickchart {\n",
              "      --bg-color: #3B4455;\n",
              "      --fill-color: #D2E3FC;\n",
              "      --hover-bg-color: #434B5C;\n",
              "      --hover-fill-color: #FFFFFF;\n",
              "      --disabled-bg-color: #3B4455;\n",
              "      --disabled-fill-color: #666;\n",
              "  }\n",
              "\n",
              "  .colab-df-quickchart {\n",
              "    background-color: var(--bg-color);\n",
              "    border: none;\n",
              "    border-radius: 50%;\n",
              "    cursor: pointer;\n",
              "    display: none;\n",
              "    fill: var(--fill-color);\n",
              "    height: 32px;\n",
              "    padding: 0;\n",
              "    width: 32px;\n",
              "  }\n",
              "\n",
              "  .colab-df-quickchart:hover {\n",
              "    background-color: var(--hover-bg-color);\n",
              "    box-shadow: 0 1px 2px rgba(60, 64, 67, 0.3), 0 1px 3px 1px rgba(60, 64, 67, 0.15);\n",
              "    fill: var(--button-hover-fill-color);\n",
              "  }\n",
              "\n",
              "  .colab-df-quickchart-complete:disabled,\n",
              "  .colab-df-quickchart-complete:disabled:hover {\n",
              "    background-color: var(--disabled-bg-color);\n",
              "    fill: var(--disabled-fill-color);\n",
              "    box-shadow: none;\n",
              "  }\n",
              "\n",
              "  .colab-df-spinner {\n",
              "    border: 2px solid var(--fill-color);\n",
              "    border-color: transparent;\n",
              "    border-bottom-color: var(--fill-color);\n",
              "    animation:\n",
              "      spin 1s steps(1) infinite;\n",
              "  }\n",
              "\n",
              "  @keyframes spin {\n",
              "    0% {\n",
              "      border-color: transparent;\n",
              "      border-bottom-color: var(--fill-color);\n",
              "      border-left-color: var(--fill-color);\n",
              "    }\n",
              "    20% {\n",
              "      border-color: transparent;\n",
              "      border-left-color: var(--fill-color);\n",
              "      border-top-color: var(--fill-color);\n",
              "    }\n",
              "    30% {\n",
              "      border-color: transparent;\n",
              "      border-left-color: var(--fill-color);\n",
              "      border-top-color: var(--fill-color);\n",
              "      border-right-color: var(--fill-color);\n",
              "    }\n",
              "    40% {\n",
              "      border-color: transparent;\n",
              "      border-right-color: var(--fill-color);\n",
              "      border-top-color: var(--fill-color);\n",
              "    }\n",
              "    60% {\n",
              "      border-color: transparent;\n",
              "      border-right-color: var(--fill-color);\n",
              "    }\n",
              "    80% {\n",
              "      border-color: transparent;\n",
              "      border-right-color: var(--fill-color);\n",
              "      border-bottom-color: var(--fill-color);\n",
              "    }\n",
              "    90% {\n",
              "      border-color: transparent;\n",
              "      border-bottom-color: var(--fill-color);\n",
              "    }\n",
              "  }\n",
              "</style>\n",
              "\n",
              "  <script>\n",
              "    async function quickchart(key) {\n",
              "      const quickchartButtonEl =\n",
              "        document.querySelector('#' + key + ' button');\n",
              "      quickchartButtonEl.disabled = true;  // To prevent multiple clicks.\n",
              "      quickchartButtonEl.classList.add('colab-df-spinner');\n",
              "      try {\n",
              "        const charts = await google.colab.kernel.invokeFunction(\n",
              "            'suggestCharts', [key], {});\n",
              "      } catch (error) {\n",
              "        console.error('Error during call to suggestCharts:', error);\n",
              "      }\n",
              "      quickchartButtonEl.classList.remove('colab-df-spinner');\n",
              "      quickchartButtonEl.classList.add('colab-df-quickchart-complete');\n",
              "    }\n",
              "    (() => {\n",
              "      let quickchartButtonEl =\n",
              "        document.querySelector('#df-aa988e42-95c7-42dd-a3f4-f0df123ae091 button');\n",
              "      quickchartButtonEl.style.display =\n",
              "        google.colab.kernel.accessAllowed ? 'block' : 'none';\n",
              "    })();\n",
              "  </script>\n",
              "</div>\n",
              "\n",
              "    </div>\n",
              "  </div>\n"
            ],
            "application/vnd.google.colaboratory.intrinsic+json": {
              "type": "dataframe",
              "summary": "{\n  \"name\": \"df[['Score']]\",\n  \"rows\": 8,\n  \"fields\": [\n    {\n      \"column\": \"Score\",\n      \"properties\": {\n        \"dtype\": \"number\",\n        \"std\": 6357.596207438595,\n        \"min\": -60.0,\n        \"max\": 17980.0,\n        \"num_unique_values\": 8,\n        \"samples\": [\n          -2.6399888765294772,\n          -2.0,\n          17980.0\n        ],\n        \"semantic_type\": \"\",\n        \"description\": \"\"\n      }\n    }\n  ]\n}"
            }
          },
          "metadata": {},
          "execution_count": 15
        }
      ],
      "source": [
        "df[['Score']].describe()"
      ]
    },
    {
      "cell_type": "code",
      "execution_count": 16,
      "metadata": {
        "id": "nK-x8jzBXyrs",
        "colab": {
          "base_uri": "https://localhost:8080/",
          "height": 210
        },
        "outputId": "dde526cd-f5b2-4e8e-dec6-4a2ba2eb3128"
      },
      "outputs": [
        {
          "output_type": "execute_result",
          "data": {
            "text/plain": [
              "Polarity\n",
              "negative    8684\n",
              "neutral     5659\n",
              "positive    3637\n",
              "Name: count, dtype: int64"
            ],
            "text/html": [
              "<div>\n",
              "<style scoped>\n",
              "    .dataframe tbody tr th:only-of-type {\n",
              "        vertical-align: middle;\n",
              "    }\n",
              "\n",
              "    .dataframe tbody tr th {\n",
              "        vertical-align: top;\n",
              "    }\n",
              "\n",
              "    .dataframe thead th {\n",
              "        text-align: right;\n",
              "    }\n",
              "</style>\n",
              "<table border=\"1\" class=\"dataframe\">\n",
              "  <thead>\n",
              "    <tr style=\"text-align: right;\">\n",
              "      <th></th>\n",
              "      <th>count</th>\n",
              "    </tr>\n",
              "    <tr>\n",
              "      <th>Polarity</th>\n",
              "      <th></th>\n",
              "    </tr>\n",
              "  </thead>\n",
              "  <tbody>\n",
              "    <tr>\n",
              "      <th>negative</th>\n",
              "      <td>8684</td>\n",
              "    </tr>\n",
              "    <tr>\n",
              "      <th>neutral</th>\n",
              "      <td>5659</td>\n",
              "    </tr>\n",
              "    <tr>\n",
              "      <th>positive</th>\n",
              "      <td>3637</td>\n",
              "    </tr>\n",
              "  </tbody>\n",
              "</table>\n",
              "</div><br><label><b>dtype:</b> int64</label>"
            ]
          },
          "metadata": {},
          "execution_count": 16
        }
      ],
      "source": [
        "df['Polarity'].value_counts()"
      ]
    },
    {
      "cell_type": "code",
      "execution_count": 17,
      "metadata": {
        "id": "IbRCGmctnmFi",
        "colab": {
          "base_uri": "https://localhost:8080/",
          "height": 241
        },
        "outputId": "bea2309e-b019-4706-a117-8e297aab8595"
      },
      "outputs": [
        {
          "output_type": "execute_result",
          "data": {
            "text/plain": [
              "Polarity4\n",
              "very_negative    6420\n",
              "negative         6003\n",
              "positive         3299\n",
              "very_positive    2258\n",
              "Name: count, dtype: int64"
            ],
            "text/html": [
              "<div>\n",
              "<style scoped>\n",
              "    .dataframe tbody tr th:only-of-type {\n",
              "        vertical-align: middle;\n",
              "    }\n",
              "\n",
              "    .dataframe tbody tr th {\n",
              "        vertical-align: top;\n",
              "    }\n",
              "\n",
              "    .dataframe thead th {\n",
              "        text-align: right;\n",
              "    }\n",
              "</style>\n",
              "<table border=\"1\" class=\"dataframe\">\n",
              "  <thead>\n",
              "    <tr style=\"text-align: right;\">\n",
              "      <th></th>\n",
              "      <th>count</th>\n",
              "    </tr>\n",
              "    <tr>\n",
              "      <th>Polarity4</th>\n",
              "      <th></th>\n",
              "    </tr>\n",
              "  </thead>\n",
              "  <tbody>\n",
              "    <tr>\n",
              "      <th>very_negative</th>\n",
              "      <td>6420</td>\n",
              "    </tr>\n",
              "    <tr>\n",
              "      <th>negative</th>\n",
              "      <td>6003</td>\n",
              "    </tr>\n",
              "    <tr>\n",
              "      <th>positive</th>\n",
              "      <td>3299</td>\n",
              "    </tr>\n",
              "    <tr>\n",
              "      <th>very_positive</th>\n",
              "      <td>2258</td>\n",
              "    </tr>\n",
              "  </tbody>\n",
              "</table>\n",
              "</div><br><label><b>dtype:</b> int64</label>"
            ]
          },
          "metadata": {},
          "execution_count": 17
        }
      ],
      "source": [
        "df['Polarity4'].value_counts()"
      ]
    },
    {
      "cell_type": "code",
      "execution_count": 18,
      "metadata": {
        "id": "X20XApr2GsRt",
        "colab": {
          "base_uri": "https://localhost:8080/",
          "height": 272
        },
        "outputId": "e3fb10b5-6c4d-400f-cf9d-e8f808309e4f"
      },
      "outputs": [
        {
          "output_type": "execute_result",
          "data": {
            "text/plain": [
              "Polarity5\n",
              "very_negative    5405\n",
              "negative         4495\n",
              "neutral          3572\n",
              "positive         2785\n",
              "very_positive    1723\n",
              "Name: count, dtype: int64"
            ],
            "text/html": [
              "<div>\n",
              "<style scoped>\n",
              "    .dataframe tbody tr th:only-of-type {\n",
              "        vertical-align: middle;\n",
              "    }\n",
              "\n",
              "    .dataframe tbody tr th {\n",
              "        vertical-align: top;\n",
              "    }\n",
              "\n",
              "    .dataframe thead th {\n",
              "        text-align: right;\n",
              "    }\n",
              "</style>\n",
              "<table border=\"1\" class=\"dataframe\">\n",
              "  <thead>\n",
              "    <tr style=\"text-align: right;\">\n",
              "      <th></th>\n",
              "      <th>count</th>\n",
              "    </tr>\n",
              "    <tr>\n",
              "      <th>Polarity5</th>\n",
              "      <th></th>\n",
              "    </tr>\n",
              "  </thead>\n",
              "  <tbody>\n",
              "    <tr>\n",
              "      <th>very_negative</th>\n",
              "      <td>5405</td>\n",
              "    </tr>\n",
              "    <tr>\n",
              "      <th>negative</th>\n",
              "      <td>4495</td>\n",
              "    </tr>\n",
              "    <tr>\n",
              "      <th>neutral</th>\n",
              "      <td>3572</td>\n",
              "    </tr>\n",
              "    <tr>\n",
              "      <th>positive</th>\n",
              "      <td>2785</td>\n",
              "    </tr>\n",
              "    <tr>\n",
              "      <th>very_positive</th>\n",
              "      <td>1723</td>\n",
              "    </tr>\n",
              "  </tbody>\n",
              "</table>\n",
              "</div><br><label><b>dtype:</b> int64</label>"
            ]
          },
          "metadata": {},
          "execution_count": 18
        }
      ],
      "source": [
        "df['Polarity5'].value_counts()"
      ]
    },
    {
      "cell_type": "markdown",
      "metadata": {
        "id": "s0bvwyAGQLWs"
      },
      "source": [
        "# Feature Selection"
      ]
    },
    {
      "cell_type": "code",
      "execution_count": 19,
      "metadata": {
        "id": "q7EMULyUavkv"
      },
      "outputs": [],
      "source": [
        "X, y, y4, y5 = df['Final'], df['Polarity'], df['Polarity4'], df['Polarity5']"
      ]
    },
    {
      "cell_type": "markdown",
      "metadata": {
        "id": "rxqXq62ORUtG"
      },
      "source": [
        "# Tokenizing"
      ]
    },
    {
      "cell_type": "code",
      "execution_count": 20,
      "metadata": {
        "id": "0B_XbveyIekE"
      },
      "outputs": [],
      "source": [
        "tokenizer = Tokenizer(num_words=5000)\n",
        "tokenizer.fit_on_texts(X)\n",
        "X_token = tokenizer.texts_to_sequences(X)\n",
        "X_token = pad_sequences(X_token, maxlen=100)"
      ]
    },
    {
      "cell_type": "markdown",
      "metadata": {
        "id": "mo_bDLFsQPOi"
      },
      "source": [
        "# Oversampling"
      ]
    },
    {
      "cell_type": "code",
      "execution_count": 21,
      "metadata": {
        "id": "B9FZW3RqwqfF"
      },
      "outputs": [],
      "source": [
        "ros = RandomOverSampler(random_state=0)\n",
        "X_over, y_over = ros.fit_resample(X_token, y)\n",
        "X4_over, y4_over = ros.fit_resample(X_token, y4)\n",
        "X5_over, y5_over = ros.fit_resample(X_token, y5)"
      ]
    },
    {
      "cell_type": "code",
      "execution_count": 22,
      "metadata": {
        "id": "jAUlrSQBQ_iY",
        "colab": {
          "base_uri": "https://localhost:8080/",
          "height": 210
        },
        "outputId": "3496a8c1-4427-4f07-9e45-f31cbab8290e"
      },
      "outputs": [
        {
          "output_type": "execute_result",
          "data": {
            "text/plain": [
              "Polarity\n",
              "negative    8684\n",
              "neutral     8684\n",
              "positive    8684\n",
              "Name: count, dtype: int64"
            ],
            "text/html": [
              "<div>\n",
              "<style scoped>\n",
              "    .dataframe tbody tr th:only-of-type {\n",
              "        vertical-align: middle;\n",
              "    }\n",
              "\n",
              "    .dataframe tbody tr th {\n",
              "        vertical-align: top;\n",
              "    }\n",
              "\n",
              "    .dataframe thead th {\n",
              "        text-align: right;\n",
              "    }\n",
              "</style>\n",
              "<table border=\"1\" class=\"dataframe\">\n",
              "  <thead>\n",
              "    <tr style=\"text-align: right;\">\n",
              "      <th></th>\n",
              "      <th>count</th>\n",
              "    </tr>\n",
              "    <tr>\n",
              "      <th>Polarity</th>\n",
              "      <th></th>\n",
              "    </tr>\n",
              "  </thead>\n",
              "  <tbody>\n",
              "    <tr>\n",
              "      <th>negative</th>\n",
              "      <td>8684</td>\n",
              "    </tr>\n",
              "    <tr>\n",
              "      <th>neutral</th>\n",
              "      <td>8684</td>\n",
              "    </tr>\n",
              "    <tr>\n",
              "      <th>positive</th>\n",
              "      <td>8684</td>\n",
              "    </tr>\n",
              "  </tbody>\n",
              "</table>\n",
              "</div><br><label><b>dtype:</b> int64</label>"
            ]
          },
          "metadata": {},
          "execution_count": 22
        }
      ],
      "source": [
        "y_over.value_counts()"
      ]
    },
    {
      "cell_type": "code",
      "execution_count": 23,
      "metadata": {
        "id": "AvBfmRPNpqxK",
        "colab": {
          "base_uri": "https://localhost:8080/",
          "height": 241
        },
        "outputId": "d6cdc02a-c908-48fd-e046-1217d2146114"
      },
      "outputs": [
        {
          "output_type": "execute_result",
          "data": {
            "text/plain": [
              "Polarity4\n",
              "very_negative    6420\n",
              "negative         6420\n",
              "positive         6420\n",
              "very_positive    6420\n",
              "Name: count, dtype: int64"
            ],
            "text/html": [
              "<div>\n",
              "<style scoped>\n",
              "    .dataframe tbody tr th:only-of-type {\n",
              "        vertical-align: middle;\n",
              "    }\n",
              "\n",
              "    .dataframe tbody tr th {\n",
              "        vertical-align: top;\n",
              "    }\n",
              "\n",
              "    .dataframe thead th {\n",
              "        text-align: right;\n",
              "    }\n",
              "</style>\n",
              "<table border=\"1\" class=\"dataframe\">\n",
              "  <thead>\n",
              "    <tr style=\"text-align: right;\">\n",
              "      <th></th>\n",
              "      <th>count</th>\n",
              "    </tr>\n",
              "    <tr>\n",
              "      <th>Polarity4</th>\n",
              "      <th></th>\n",
              "    </tr>\n",
              "  </thead>\n",
              "  <tbody>\n",
              "    <tr>\n",
              "      <th>very_negative</th>\n",
              "      <td>6420</td>\n",
              "    </tr>\n",
              "    <tr>\n",
              "      <th>negative</th>\n",
              "      <td>6420</td>\n",
              "    </tr>\n",
              "    <tr>\n",
              "      <th>positive</th>\n",
              "      <td>6420</td>\n",
              "    </tr>\n",
              "    <tr>\n",
              "      <th>very_positive</th>\n",
              "      <td>6420</td>\n",
              "    </tr>\n",
              "  </tbody>\n",
              "</table>\n",
              "</div><br><label><b>dtype:</b> int64</label>"
            ]
          },
          "metadata": {},
          "execution_count": 23
        }
      ],
      "source": [
        "y4_over.value_counts()"
      ]
    },
    {
      "cell_type": "code",
      "execution_count": 24,
      "metadata": {
        "id": "6fyFiqlfHfSc",
        "colab": {
          "base_uri": "https://localhost:8080/",
          "height": 272
        },
        "outputId": "0957a70f-0ed8-49bf-bb72-7619100ae7c7"
      },
      "outputs": [
        {
          "output_type": "execute_result",
          "data": {
            "text/plain": [
              "Polarity5\n",
              "very_negative    5405\n",
              "negative         5405\n",
              "neutral          5405\n",
              "very_positive    5405\n",
              "positive         5405\n",
              "Name: count, dtype: int64"
            ],
            "text/html": [
              "<div>\n",
              "<style scoped>\n",
              "    .dataframe tbody tr th:only-of-type {\n",
              "        vertical-align: middle;\n",
              "    }\n",
              "\n",
              "    .dataframe tbody tr th {\n",
              "        vertical-align: top;\n",
              "    }\n",
              "\n",
              "    .dataframe thead th {\n",
              "        text-align: right;\n",
              "    }\n",
              "</style>\n",
              "<table border=\"1\" class=\"dataframe\">\n",
              "  <thead>\n",
              "    <tr style=\"text-align: right;\">\n",
              "      <th></th>\n",
              "      <th>count</th>\n",
              "    </tr>\n",
              "    <tr>\n",
              "      <th>Polarity5</th>\n",
              "      <th></th>\n",
              "    </tr>\n",
              "  </thead>\n",
              "  <tbody>\n",
              "    <tr>\n",
              "      <th>very_negative</th>\n",
              "      <td>5405</td>\n",
              "    </tr>\n",
              "    <tr>\n",
              "      <th>negative</th>\n",
              "      <td>5405</td>\n",
              "    </tr>\n",
              "    <tr>\n",
              "      <th>neutral</th>\n",
              "      <td>5405</td>\n",
              "    </tr>\n",
              "    <tr>\n",
              "      <th>very_positive</th>\n",
              "      <td>5405</td>\n",
              "    </tr>\n",
              "    <tr>\n",
              "      <th>positive</th>\n",
              "      <td>5405</td>\n",
              "    </tr>\n",
              "  </tbody>\n",
              "</table>\n",
              "</div><br><label><b>dtype:</b> int64</label>"
            ]
          },
          "metadata": {},
          "execution_count": 24
        }
      ],
      "source": [
        "y5_over.value_counts()"
      ]
    },
    {
      "cell_type": "code",
      "execution_count": 25,
      "metadata": {
        "id": "HM9vX054YYsd"
      },
      "outputs": [],
      "source": [
        "y_over_encoded = pd.get_dummies(y_over, columns=['Polarity']).values.astype(int)\n",
        "y4_over_encoded = pd.get_dummies(y4_over, columns=['Polarity4']).values.astype(int)\n",
        "y5_over_encoded = pd.get_dummies(y5_over, columns=['Polarity5']).values.astype(int)"
      ]
    },
    {
      "cell_type": "markdown",
      "metadata": {
        "id": "nuocwxVOQphj"
      },
      "source": [
        "# Data Splitting"
      ]
    },
    {
      "cell_type": "code",
      "execution_count": 37,
      "metadata": {
        "id": "n39fq54EQwfl"
      },
      "outputs": [],
      "source": [
        "X_train_over, X_test_over, y_train_over, y_test_over = train_test_split(X_over, y_over_encoded, random_state=0, train_size=.9, shuffle=True)\n",
        "X4_train_over, X4_test_over, y4_train_over, y4_test_over = train_test_split(X4_over, y4_over_encoded, random_state=0, train_size=.85, shuffle=True)\n",
        "X5_train_over, X5_test_over, y5_train_over, y5_test_over = train_test_split(X5_over, y5_over_encoded, random_state=0, train_size=.8, shuffle=True)"
      ]
    },
    {
      "cell_type": "markdown",
      "metadata": {
        "id": "DmV2Sqq8RuXT"
      },
      "source": [
        "# Modelling"
      ]
    },
    {
      "cell_type": "code",
      "execution_count": 38,
      "metadata": {
        "id": "SauJZOFQRP5X"
      },
      "outputs": [],
      "source": [
        "class ReachAccuracy(Callback):\n",
        "    def __init__(self, target: float, patience: int = 0, restore_best_weights: bool = False):\n",
        "        super().__init__()\n",
        "        self.target = target\n",
        "        self.patience = patience\n",
        "        self.restore_best_weights = restore_best_weights\n",
        "        self.wait = 0\n",
        "        self.best = 0\n",
        "        self.best_weights = 0\n",
        "\n",
        "    def on_epoch_end(self, epoch, logs):\n",
        "        current = logs.get('val_accuracy')\n",
        "        if np.greater(current, self.target):\n",
        "            if np.greater(current, self.best):\n",
        "                self.best = current\n",
        "                self.best_weights = self.model.get_weights()\n",
        "\n",
        "            if self.wait >= self.patience:\n",
        "                self.model.stop_training = True\n",
        "                if (self.restore_best_weights):\n",
        "                    self.model.set_weights(self.best_weights)\n",
        "                print(f'Stopped training: Reached target accuracy ({self.target}): {current}')\n",
        "\n",
        "            self.wait += 1"
      ]
    },
    {
      "cell_type": "markdown",
      "metadata": {
        "id": "DNBvADVa9eYs"
      },
      "source": [
        "## Model 1\n",
        "* Algoritma: LSTM\n",
        "* Klasifikasi: 3 Kelas\n",
        "* Data: 26052 row (hasil oversampling)\n",
        "* Data Splitting: 90% Training : 10% Testing"
      ]
    },
    {
      "cell_type": "code",
      "execution_count": 39,
      "metadata": {
        "id": "W4C7Xmva9Ftd",
        "colab": {
          "base_uri": "https://localhost:8080/"
        },
        "outputId": "f2ccc698-cb37-45b6-bfff-6b59a71f2999"
      },
      "outputs": [
        {
          "output_type": "stream",
          "name": "stdout",
          "text": [
            "Epoch 1/50\n",
            "733/733 - 9s - 12ms/step - accuracy: 0.5190 - loss: 0.9937 - val_accuracy: 0.6450 - val_loss: 0.8058\n",
            "Epoch 2/50\n",
            "733/733 - 4s - 6ms/step - accuracy: 0.7037 - loss: 0.6883 - val_accuracy: 0.7425 - val_loss: 0.6179\n",
            "Epoch 3/50\n",
            "733/733 - 5s - 7ms/step - accuracy: 0.7940 - loss: 0.5197 - val_accuracy: 0.8054 - val_loss: 0.4779\n",
            "Epoch 4/50\n",
            "733/733 - 5s - 7ms/step - accuracy: 0.8485 - loss: 0.4053 - val_accuracy: 0.8507 - val_loss: 0.3945\n",
            "Epoch 5/50\n",
            "733/733 - 10s - 13ms/step - accuracy: 0.8822 - loss: 0.3346 - val_accuracy: 0.8676 - val_loss: 0.3498\n",
            "Epoch 6/50\n",
            "733/733 - 5s - 6ms/step - accuracy: 0.9044 - loss: 0.2805 - val_accuracy: 0.8872 - val_loss: 0.3024\n",
            "Epoch 7/50\n",
            "733/733 - 5s - 6ms/step - accuracy: 0.9203 - loss: 0.2423 - val_accuracy: 0.8906 - val_loss: 0.2938\n",
            "Epoch 8/50\n",
            "733/733 - 5s - 7ms/step - accuracy: 0.9289 - loss: 0.2134 - val_accuracy: 0.9045 - val_loss: 0.2612\n",
            "Epoch 9/50\n",
            "733/733 - 10s - 13ms/step - accuracy: 0.9412 - loss: 0.1876 - val_accuracy: 0.9144 - val_loss: 0.2346\n",
            "Epoch 10/50\n",
            "733/733 - 5s - 7ms/step - accuracy: 0.9473 - loss: 0.1685 - val_accuracy: 0.9221 - val_loss: 0.2194\n",
            "Epoch 11/50\n",
            "733/733 - 10s - 14ms/step - accuracy: 0.9531 - loss: 0.1518 - val_accuracy: 0.9248 - val_loss: 0.2177\n",
            "Epoch 12/50\n",
            "733/733 - 9s - 13ms/step - accuracy: 0.9601 - loss: 0.1376 - val_accuracy: 0.9355 - val_loss: 0.1958\n",
            "Epoch 13/50\n",
            "Stopped training: Reached target accuracy (0.92): 0.933230996131897\n",
            "733/733 - 5s - 7ms/step - accuracy: 0.9652 - loss: 0.1247 - val_accuracy: 0.9332 - val_loss: 0.1916\n"
          ]
        }
      ],
      "source": [
        "lstm = Sequential([\n",
        "    Embedding(5000, 15),\n",
        "    LSTM(64, activation='tanh', recurrent_activation='sigmoid',\n",
        "                recurrent_initializer='orthogonal', use_bias=True),\n",
        "    Dense(3, activation='softmax'),\n",
        "])\n",
        "\n",
        "lstm.compile(optimizer=Adam(learning_rate=.0001), loss='categorical_crossentropy', metrics=['accuracy'])\n",
        "lstm_hist = lstm.fit(X_train_over, y_train_over, epochs=50, batch_size=32, verbose=2, validation_data=(X_test_over, y_test_over),\n",
        "                     callbacks=[\n",
        "                        EarlyStopping(monitor='val_accuracy', patience=5, restore_best_weights=True),\n",
        "                        ReachAccuracy(0.92, patience=3, restore_best_weights=True)\n",
        "                    ])"
      ]
    },
    {
      "cell_type": "code",
      "execution_count": 40,
      "metadata": {
        "id": "Xpz1wtfOpXeo",
        "colab": {
          "base_uri": "https://localhost:8080/"
        },
        "outputId": "1b365880-953b-4748-f55b-dbac1a6aa561"
      },
      "outputs": [
        {
          "output_type": "stream",
          "name": "stdout",
          "text": [
            "\u001b[1m733/733\u001b[0m \u001b[32m━━━━━━━━━━━━━━━━━━━━\u001b[0m\u001b[37m\u001b[0m \u001b[1m2s\u001b[0m 3ms/step - accuracy: 0.9675 - loss: 0.1210\n"
          ]
        },
        {
          "output_type": "execute_result",
          "data": {
            "text/plain": [
              "[0.1207486167550087, 0.9685234427452087]"
            ]
          },
          "metadata": {},
          "execution_count": 40
        }
      ],
      "source": [
        "# Akurasi Training LSTM\n",
        "lstm.evaluate(X_train_over, y_train_over)"
      ]
    },
    {
      "cell_type": "code",
      "execution_count": 41,
      "metadata": {
        "id": "KfDZvVSekiPz",
        "colab": {
          "base_uri": "https://localhost:8080/"
        },
        "outputId": "2cc4ce5b-7c50-4878-86fd-08a130e009ee"
      },
      "outputs": [
        {
          "output_type": "stream",
          "name": "stdout",
          "text": [
            "\u001b[1m82/82\u001b[0m \u001b[32m━━━━━━━━━━━━━━━━━━━━\u001b[0m\u001b[37m\u001b[0m \u001b[1m0s\u001b[0m 4ms/step - accuracy: 0.9334 - loss: 0.1956\n"
          ]
        },
        {
          "output_type": "execute_result",
          "data": {
            "text/plain": [
              "[0.19580575823783875, 0.9355334043502808]"
            ]
          },
          "metadata": {},
          "execution_count": 41
        }
      ],
      "source": [
        "# Akurasi Testing LSTM\n",
        "lstm.evaluate(X_test_over, y_test_over)"
      ]
    },
    {
      "cell_type": "markdown",
      "metadata": {
        "id": "ckrcvmP-v78Y"
      },
      "source": [
        "## Model 2\n",
        "* Algoritma: LSTM dengan Dropout Layer\n",
        "* Klasifikasi: 4 kelas\n",
        "* Data: 25680 row (hasil oversampling)\n",
        "* Data Splitting: 85% training : 15% Testing"
      ]
    },
    {
      "cell_type": "code",
      "execution_count": 42,
      "metadata": {
        "colab": {
          "base_uri": "https://localhost:8080/"
        },
        "id": "HOYuWs0IwZSt",
        "outputId": "1a517145-9d43-4f0e-d2de-d0a1c1d3c551"
      },
      "outputs": [
        {
          "output_type": "stream",
          "name": "stdout",
          "text": [
            "Epoch 1/50\n",
            "683/683 - 6s - 9ms/step - accuracy: 0.3187 - loss: 1.3631 - val_accuracy: 0.3692 - val_loss: 1.3228\n",
            "Epoch 2/50\n",
            "683/683 - 5s - 8ms/step - accuracy: 0.4914 - loss: 1.1500 - val_accuracy: 0.5636 - val_loss: 1.0009\n",
            "Epoch 3/50\n",
            "683/683 - 10s - 15ms/step - accuracy: 0.6038 - loss: 0.9174 - val_accuracy: 0.6168 - val_loss: 0.8557\n",
            "Epoch 4/50\n",
            "683/683 - 9s - 14ms/step - accuracy: 0.6621 - loss: 0.7926 - val_accuracy: 0.6846 - val_loss: 0.7571\n",
            "Epoch 5/50\n",
            "683/683 - 5s - 8ms/step - accuracy: 0.7077 - loss: 0.6970 - val_accuracy: 0.7222 - val_loss: 0.6734\n",
            "Epoch 6/50\n",
            "683/683 - 4s - 6ms/step - accuracy: 0.7546 - loss: 0.6142 - val_accuracy: 0.7505 - val_loss: 0.6164\n",
            "Epoch 7/50\n",
            "683/683 - 5s - 8ms/step - accuracy: 0.7901 - loss: 0.5458 - val_accuracy: 0.7734 - val_loss: 0.5487\n",
            "Epoch 8/50\n",
            "683/683 - 5s - 8ms/step - accuracy: 0.8154 - loss: 0.4873 - val_accuracy: 0.8030 - val_loss: 0.4936\n",
            "Epoch 9/50\n",
            "683/683 - 5s - 7ms/step - accuracy: 0.8395 - loss: 0.4335 - val_accuracy: 0.8183 - val_loss: 0.4607\n",
            "Epoch 10/50\n",
            "683/683 - 6s - 9ms/step - accuracy: 0.8599 - loss: 0.3886 - val_accuracy: 0.8357 - val_loss: 0.4187\n",
            "Epoch 11/50\n",
            "683/683 - 4s - 6ms/step - accuracy: 0.8786 - loss: 0.3516 - val_accuracy: 0.8520 - val_loss: 0.3891\n",
            "Epoch 12/50\n",
            "683/683 - 5s - 8ms/step - accuracy: 0.8880 - loss: 0.3203 - val_accuracy: 0.8660 - val_loss: 0.3636\n",
            "Epoch 13/50\n",
            "683/683 - 6s - 8ms/step - accuracy: 0.9014 - loss: 0.2924 - val_accuracy: 0.8803 - val_loss: 0.3411\n",
            "Epoch 14/50\n",
            "683/683 - 4s - 7ms/step - accuracy: 0.9120 - loss: 0.2699 - val_accuracy: 0.8803 - val_loss: 0.3387\n",
            "Epoch 15/50\n",
            "683/683 - 5s - 8ms/step - accuracy: 0.9185 - loss: 0.2473 - val_accuracy: 0.8829 - val_loss: 0.3230\n",
            "Epoch 16/50\n",
            "683/683 - 9s - 14ms/step - accuracy: 0.9268 - loss: 0.2277 - val_accuracy: 0.8936 - val_loss: 0.3092\n",
            "Epoch 17/50\n",
            "683/683 - 6s - 9ms/step - accuracy: 0.9321 - loss: 0.2112 - val_accuracy: 0.8975 - val_loss: 0.2996\n",
            "Epoch 18/50\n",
            "683/683 - 10s - 14ms/step - accuracy: 0.9391 - loss: 0.1977 - val_accuracy: 0.9047 - val_loss: 0.2874\n",
            "Epoch 19/50\n",
            "683/683 - 4s - 7ms/step - accuracy: 0.9454 - loss: 0.1836 - val_accuracy: 0.9058 - val_loss: 0.2826\n",
            "Epoch 20/50\n",
            "683/683 - 4s - 6ms/step - accuracy: 0.9491 - loss: 0.1739 - val_accuracy: 0.9089 - val_loss: 0.2776\n",
            "Epoch 21/50\n",
            "683/683 - 6s - 9ms/step - accuracy: 0.9508 - loss: 0.1625 - val_accuracy: 0.9107 - val_loss: 0.2755\n",
            "Epoch 22/50\n",
            "683/683 - 9s - 14ms/step - accuracy: 0.9552 - loss: 0.1546 - val_accuracy: 0.9185 - val_loss: 0.2634\n",
            "Epoch 23/50\n",
            "683/683 - 5s - 8ms/step - accuracy: 0.9578 - loss: 0.1432 - val_accuracy: 0.9125 - val_loss: 0.2716\n",
            "Epoch 24/50\n",
            "683/683 - 5s - 7ms/step - accuracy: 0.9616 - loss: 0.1370 - val_accuracy: 0.9154 - val_loss: 0.2732\n",
            "Epoch 25/50\n",
            "683/683 - 6s - 9ms/step - accuracy: 0.9640 - loss: 0.1292 - val_accuracy: 0.9159 - val_loss: 0.2694\n",
            "Epoch 26/50\n",
            "683/683 - 9s - 13ms/step - accuracy: 0.9669 - loss: 0.1225 - val_accuracy: 0.9146 - val_loss: 0.2717\n",
            "Epoch 27/50\n",
            "683/683 - 6s - 8ms/step - accuracy: 0.9671 - loss: 0.1170 - val_accuracy: 0.9213 - val_loss: 0.2628\n",
            "Epoch 28/50\n",
            "683/683 - 4s - 7ms/step - accuracy: 0.9694 - loss: 0.1117 - val_accuracy: 0.9232 - val_loss: 0.2610\n",
            "Epoch 29/50\n",
            "683/683 - 5s - 7ms/step - accuracy: 0.9718 - loss: 0.1062 - val_accuracy: 0.9263 - val_loss: 0.2580\n",
            "Epoch 30/50\n",
            "683/683 - 5s - 7ms/step - accuracy: 0.9732 - loss: 0.1027 - val_accuracy: 0.9123 - val_loss: 0.2834\n",
            "Epoch 31/50\n",
            "Stopped training: Reached target accuracy (0.92): 0.9273104667663574\n",
            "683/683 - 5s - 7ms/step - accuracy: 0.9763 - loss: 0.0959 - val_accuracy: 0.9273 - val_loss: 0.2646\n"
          ]
        }
      ],
      "source": [
        "lstm_2 = Sequential([\n",
        "    Embedding(input_dim=5000, output_dim=15),\n",
        "    LSTM(64),\n",
        "    Dropout(0.3),\n",
        "    Dense(4, activation='softmax')\n",
        "])\n",
        "\n",
        "lstm_2.compile(optimizer=Adam(learning_rate=.0001), loss='categorical_crossentropy', metrics=['accuracy'])\n",
        "lstm_2_hist = lstm_2.fit(X4_train_over, y4_train_over, epochs=50, batch_size=32, verbose=2, validation_data=(X4_test_over, y4_test_over),\n",
        "                           callbacks=[\n",
        "                                EarlyStopping(monitor='val_accuracy', patience=10, restore_best_weights=True),\n",
        "                                ReachAccuracy(0.92, patience=3, restore_best_weights=True)\n",
        "                            ])"
      ]
    },
    {
      "cell_type": "code",
      "execution_count": 43,
      "metadata": {
        "id": "5vA0cErXGz9K",
        "colab": {
          "base_uri": "https://localhost:8080/"
        },
        "outputId": "ddd5a5f9-2cc8-491b-d725-e96941f52b94"
      },
      "outputs": [
        {
          "output_type": "stream",
          "name": "stdout",
          "text": [
            "\u001b[1m683/683\u001b[0m \u001b[32m━━━━━━━━━━━━━━━━━━━━\u001b[0m\u001b[37m\u001b[0m \u001b[1m3s\u001b[0m 5ms/step - accuracy: 0.9859 - loss: 0.0760\n"
          ]
        },
        {
          "output_type": "execute_result",
          "data": {
            "text/plain": [
              "[0.07652278989553452, 0.9860729575157166]"
            ]
          },
          "metadata": {},
          "execution_count": 43
        }
      ],
      "source": [
        "# Akurasi Training Simple RNN\n",
        "lstm_2.evaluate(X4_train_over, y4_train_over)"
      ]
    },
    {
      "cell_type": "code",
      "execution_count": 44,
      "metadata": {
        "id": "eOKRmE8aQ485",
        "colab": {
          "base_uri": "https://localhost:8080/"
        },
        "outputId": "51ab990c-6dff-4d06-ce2a-3ac9b976280a"
      },
      "outputs": [
        {
          "output_type": "stream",
          "name": "stdout",
          "text": [
            "\u001b[1m121/121\u001b[0m \u001b[32m━━━━━━━━━━━━━━━━━━━━\u001b[0m\u001b[37m\u001b[0m \u001b[1m1s\u001b[0m 4ms/step - accuracy: 0.9279 - loss: 0.2699\n"
          ]
        },
        {
          "output_type": "execute_result",
          "data": {
            "text/plain": [
              "[0.2646080553531647, 0.9273104667663574]"
            ]
          },
          "metadata": {},
          "execution_count": 44
        }
      ],
      "source": [
        "# Akurasi Testing Simple RNN\n",
        "lstm_2.evaluate(X4_test_over, y4_test_over)"
      ]
    },
    {
      "cell_type": "markdown",
      "metadata": {
        "id": "4kUT3sJcRCkb"
      },
      "source": [
        "## Model 3\n",
        "* Algoritma: GRU\n",
        "* Klasifikasi: 5 kelas\n",
        "* Data: 27025 row (hasil oversampling)\n",
        "* Data Splitting: 80% Training : 20% Testing"
      ]
    },
    {
      "cell_type": "code",
      "execution_count": 62,
      "metadata": {
        "id": "2dRV9Fk4Rflj",
        "colab": {
          "base_uri": "https://localhost:8080/"
        },
        "outputId": "d6f1cddf-90f5-4abe-d5f2-cfd134d88623"
      },
      "outputs": [
        {
          "output_type": "stream",
          "name": "stdout",
          "text": [
            "Epoch 1/50\n",
            "676/676 - 6s - 10ms/step - accuracy: 0.2439 - loss: 1.6064 - val_accuracy: 0.3066 - val_loss: 1.5977\n",
            "Epoch 2/50\n",
            "676/676 - 5s - 8ms/step - accuracy: 0.3439 - loss: 1.4862 - val_accuracy: 0.3928 - val_loss: 1.2782\n",
            "Epoch 3/50\n",
            "676/676 - 11s - 16ms/step - accuracy: 0.4357 - loss: 1.2036 - val_accuracy: 0.4801 - val_loss: 1.0594\n",
            "Epoch 4/50\n",
            "676/676 - 8s - 11ms/step - accuracy: 0.5148 - loss: 1.0432 - val_accuracy: 0.5623 - val_loss: 0.9222\n",
            "Epoch 5/50\n",
            "676/676 - 8s - 13ms/step - accuracy: 0.5933 - loss: 0.9218 - val_accuracy: 0.7106 - val_loss: 0.7799\n",
            "Epoch 6/50\n",
            "676/676 - 5s - 7ms/step - accuracy: 0.6512 - loss: 0.8102 - val_accuracy: 0.8004 - val_loss: 0.6580\n",
            "Epoch 7/50\n",
            "676/676 - 5s - 7ms/step - accuracy: 0.7008 - loss: 0.7140 - val_accuracy: 0.8250 - val_loss: 0.5643\n",
            "Epoch 8/50\n",
            "676/676 - 6s - 9ms/step - accuracy: 0.7319 - loss: 0.6465 - val_accuracy: 0.8581 - val_loss: 0.5068\n",
            "Epoch 9/50\n",
            "676/676 - 10s - 15ms/step - accuracy: 0.7605 - loss: 0.5916 - val_accuracy: 0.8699 - val_loss: 0.4635\n",
            "Epoch 10/50\n",
            "676/676 - 5s - 7ms/step - accuracy: 0.7860 - loss: 0.5403 - val_accuracy: 0.8768 - val_loss: 0.4259\n",
            "Epoch 11/50\n",
            "676/676 - 5s - 8ms/step - accuracy: 0.7966 - loss: 0.5103 - val_accuracy: 0.8855 - val_loss: 0.4092\n",
            "Epoch 12/50\n",
            "676/676 - 6s - 9ms/step - accuracy: 0.8180 - loss: 0.4707 - val_accuracy: 0.8892 - val_loss: 0.3830\n",
            "Epoch 13/50\n",
            "676/676 - 10s - 15ms/step - accuracy: 0.8259 - loss: 0.4503 - val_accuracy: 0.8849 - val_loss: 0.3656\n",
            "Epoch 14/50\n",
            "676/676 - 9s - 14ms/step - accuracy: 0.8393 - loss: 0.4173 - val_accuracy: 0.8982 - val_loss: 0.3510\n",
            "Epoch 15/50\n",
            "676/676 - 6s - 8ms/step - accuracy: 0.8474 - loss: 0.4027 - val_accuracy: 0.8940 - val_loss: 0.3488\n",
            "Epoch 16/50\n",
            "676/676 - 10s - 15ms/step - accuracy: 0.8565 - loss: 0.3828 - val_accuracy: 0.9001 - val_loss: 0.3313\n",
            "Epoch 17/50\n",
            "676/676 - 10s - 14ms/step - accuracy: 0.8605 - loss: 0.3700 - val_accuracy: 0.9021 - val_loss: 0.3289\n",
            "Epoch 18/50\n",
            "676/676 - 7s - 10ms/step - accuracy: 0.8648 - loss: 0.3533 - val_accuracy: 0.8910 - val_loss: 0.3390\n",
            "Epoch 19/50\n",
            "676/676 - 9s - 14ms/step - accuracy: 0.8717 - loss: 0.3442 - val_accuracy: 0.8979 - val_loss: 0.3222\n",
            "Epoch 20/50\n",
            "676/676 - 10s - 14ms/step - accuracy: 0.8746 - loss: 0.3338 - val_accuracy: 0.9068 - val_loss: 0.3094\n",
            "Epoch 21/50\n",
            "676/676 - 6s - 8ms/step - accuracy: 0.8793 - loss: 0.3231 - val_accuracy: 0.9019 - val_loss: 0.3145\n",
            "Epoch 22/50\n",
            "676/676 - 10s - 15ms/step - accuracy: 0.8864 - loss: 0.3105 - val_accuracy: 0.9130 - val_loss: 0.3017\n",
            "Epoch 23/50\n",
            "676/676 - 10s - 14ms/step - accuracy: 0.8884 - loss: 0.3024 - val_accuracy: 0.9080 - val_loss: 0.3102\n",
            "Epoch 24/50\n",
            "676/676 - 6s - 9ms/step - accuracy: 0.8882 - loss: 0.3009 - val_accuracy: 0.9101 - val_loss: 0.3047\n",
            "Epoch 25/50\n",
            "676/676 - 10s - 14ms/step - accuracy: 0.8929 - loss: 0.2915 - val_accuracy: 0.9167 - val_loss: 0.2996\n",
            "Epoch 26/50\n",
            "676/676 - 10s - 14ms/step - accuracy: 0.8997 - loss: 0.2772 - val_accuracy: 0.9119 - val_loss: 0.3014\n",
            "Epoch 27/50\n",
            "676/676 - 6s - 9ms/step - accuracy: 0.8984 - loss: 0.2755 - val_accuracy: 0.9092 - val_loss: 0.3186\n",
            "Epoch 28/50\n",
            "676/676 - 10s - 15ms/step - accuracy: 0.9029 - loss: 0.2671 - val_accuracy: 0.9136 - val_loss: 0.3072\n",
            "Epoch 29/50\n",
            "676/676 - 5s - 8ms/step - accuracy: 0.9053 - loss: 0.2644 - val_accuracy: 0.9158 - val_loss: 0.3035\n",
            "Epoch 30/50\n",
            "676/676 - 11s - 16ms/step - accuracy: 0.9086 - loss: 0.2540 - val_accuracy: 0.9156 - val_loss: 0.3055\n",
            "Epoch 31/50\n",
            "676/676 - 9s - 14ms/step - accuracy: 0.9092 - loss: 0.2534 - val_accuracy: 0.9134 - val_loss: 0.3122\n",
            "Epoch 32/50\n",
            "676/676 - 5s - 8ms/step - accuracy: 0.9109 - loss: 0.2456 - val_accuracy: 0.8984 - val_loss: 0.3466\n",
            "Epoch 33/50\n",
            "676/676 - 11s - 16ms/step - accuracy: 0.9125 - loss: 0.2442 - val_accuracy: 0.9156 - val_loss: 0.3165\n",
            "Epoch 34/50\n",
            "676/676 - 5s - 7ms/step - accuracy: 0.9160 - loss: 0.2395 - val_accuracy: 0.9169 - val_loss: 0.3122\n",
            "Epoch 35/50\n",
            "676/676 - 5s - 8ms/step - accuracy: 0.9174 - loss: 0.2311 - val_accuracy: 0.9197 - val_loss: 0.3152\n",
            "Epoch 36/50\n",
            "676/676 - 5s - 8ms/step - accuracy: 0.9203 - loss: 0.2267 - val_accuracy: 0.9195 - val_loss: 0.3142\n",
            "Epoch 37/50\n",
            "676/676 - 5s - 7ms/step - accuracy: 0.9176 - loss: 0.2304 - val_accuracy: 0.9162 - val_loss: 0.3232\n",
            "Epoch 38/50\n",
            "676/676 - 6s - 9ms/step - accuracy: 0.9211 - loss: 0.2246 - val_accuracy: 0.9175 - val_loss: 0.3275\n",
            "Epoch 39/50\n",
            "676/676 - 9s - 14ms/step - accuracy: 0.9247 - loss: 0.2139 - val_accuracy: 0.9171 - val_loss: 0.3309\n",
            "Epoch 40/50\n",
            "676/676 - 6s - 9ms/step - accuracy: 0.9220 - loss: 0.2193 - val_accuracy: 0.9180 - val_loss: 0.3329\n",
            "Epoch 41/50\n",
            "676/676 - 11s - 16ms/step - accuracy: 0.9265 - loss: 0.2112 - val_accuracy: 0.9184 - val_loss: 0.3309\n",
            "Epoch 42/50\n",
            "676/676 - 9s - 13ms/step - accuracy: 0.9232 - loss: 0.2100 - val_accuracy: 0.9149 - val_loss: 0.3452\n",
            "Epoch 43/50\n",
            "676/676 - 6s - 9ms/step - accuracy: 0.9284 - loss: 0.2031 - val_accuracy: 0.9186 - val_loss: 0.3393\n",
            "Epoch 44/50\n",
            "676/676 - 11s - 16ms/step - accuracy: 0.9246 - loss: 0.2044 - val_accuracy: 0.9056 - val_loss: 0.3698\n",
            "Epoch 45/50\n",
            "676/676 - 9s - 14ms/step - accuracy: 0.9288 - loss: 0.2029 - val_accuracy: 0.9160 - val_loss: 0.3509\n"
          ]
        }
      ],
      "source": [
        "gru = Sequential([\n",
        "    Embedding(5000, 15),\n",
        "    GRU(32),\n",
        "    Dropout(0.3),\n",
        "    Dense(16, activation='relu'),\n",
        "    Dropout(0.3),\n",
        "    Dense(5, activation='softmax')\n",
        "])\n",
        "\n",
        "gru.compile(optimizer=Adam(learning_rate=.0001), loss='categorical_crossentropy', metrics=['accuracy'])\n",
        "gru_hist = gru.fit(X5_train_over, y5_train_over, epochs=50, batch_size=32, verbose=2, validation_data=(X5_test_over, y5_test_over),\n",
        "                callbacks = [\n",
        "                    EarlyStopping(monitor='val_accuracy', patience=10, restore_best_weights=True),\n",
        "                    ReachAccuracy(0.92, patience=3, restore_best_weights=True),\n",
        "                    # ReduceLROnPlateau(monitor='val_loss', factor=0.5, patience=3, min_lr=1e-6)\n",
        "                ])"
      ]
    },
    {
      "cell_type": "code",
      "execution_count": 63,
      "metadata": {
        "id": "qW506x5IhU4c",
        "colab": {
          "base_uri": "https://localhost:8080/"
        },
        "outputId": "562a7d14-0143-4cee-cc66-32e4e47d0c92"
      },
      "outputs": [
        {
          "output_type": "stream",
          "name": "stdout",
          "text": [
            "\u001b[1m676/676\u001b[0m \u001b[32m━━━━━━━━━━━━━━━━━━━━\u001b[0m\u001b[37m\u001b[0m \u001b[1m3s\u001b[0m 5ms/step - accuracy: 0.9859 - loss: 0.0916\n"
          ]
        },
        {
          "output_type": "execute_result",
          "data": {
            "text/plain": [
              "[0.09277333319187164, 0.9848751425743103]"
            ]
          },
          "metadata": {},
          "execution_count": 63
        }
      ],
      "source": [
        "# Akurasi Training GRU\n",
        "gru.evaluate(X5_train_over, y5_train_over)"
      ]
    },
    {
      "cell_type": "code",
      "execution_count": 64,
      "metadata": {
        "id": "nAl9548ChbdB",
        "colab": {
          "base_uri": "https://localhost:8080/"
        },
        "outputId": "6d2be5cd-cb5f-42fc-fa26-43ded49c3709"
      },
      "outputs": [
        {
          "output_type": "stream",
          "name": "stdout",
          "text": [
            "\u001b[1m169/169\u001b[0m \u001b[32m━━━━━━━━━━━━━━━━━━━━\u001b[0m\u001b[37m\u001b[0m \u001b[1m1s\u001b[0m 4ms/step - accuracy: 0.9208 - loss: 0.2817\n"
          ]
        },
        {
          "output_type": "execute_result",
          "data": {
            "text/plain": [
              "[0.31516969203948975, 0.9197039604187012]"
            ]
          },
          "metadata": {},
          "execution_count": 64
        }
      ],
      "source": [
        "# Akurasi Testing GRU\n",
        "gru.evaluate(X5_test_over, y5_test_over)"
      ]
    },
    {
      "cell_type": "markdown",
      "metadata": {
        "id": "2zSLEj0IT4sS"
      },
      "source": [
        "# Inference"
      ]
    },
    {
      "cell_type": "code",
      "execution_count": 65,
      "metadata": {
        "id": "mLbZls0WZ4OV"
      },
      "outputs": [],
      "source": [
        "def predict(text):\n",
        "    sentiment = ['Negative', 'Neutral', 'Positive']\n",
        "    sequence = tokenizer.texts_to_sequences([text])\n",
        "    test = pad_sequences(sequence, maxlen=100)\n",
        "    return sentiment[np.around(lstm.predict(test), decimals=0).argmax(axis=1)[0]]"
      ]
    },
    {
      "cell_type": "code",
      "execution_count": 66,
      "metadata": {
        "id": "rPnr2lvTi8g5",
        "colab": {
          "base_uri": "https://localhost:8080/",
          "height": 53
        },
        "outputId": "8288bc5c-22d4-4f2b-c03e-2df111d0536d"
      },
      "outputs": [
        {
          "output_type": "stream",
          "name": "stdout",
          "text": [
            "\u001b[1m1/1\u001b[0m \u001b[32m━━━━━━━━━━━━━━━━━━━━\u001b[0m\u001b[37m\u001b[0m \u001b[1m0s\u001b[0m 22ms/step\n"
          ]
        },
        {
          "output_type": "execute_result",
          "data": {
            "text/plain": [
              "'Negative'"
            ],
            "application/vnd.google.colaboratory.intrinsic+json": {
              "type": "string"
            }
          },
          "metadata": {},
          "execution_count": 66
        }
      ],
      "source": [
        "predict('Aplikasi ini tampilannya buruk sekali. Jangan download!')"
      ]
    },
    {
      "cell_type": "code",
      "execution_count": 67,
      "metadata": {
        "id": "UQNSU-zGk22R",
        "colab": {
          "base_uri": "https://localhost:8080/",
          "height": 53
        },
        "outputId": "79001e2e-a626-42c2-8aed-c90e732eb4c9"
      },
      "outputs": [
        {
          "output_type": "stream",
          "name": "stdout",
          "text": [
            "\u001b[1m1/1\u001b[0m \u001b[32m━━━━━━━━━━━━━━━━━━━━\u001b[0m\u001b[37m\u001b[0m \u001b[1m0s\u001b[0m 18ms/step\n"
          ]
        },
        {
          "output_type": "execute_result",
          "data": {
            "text/plain": [
              "'Neutral'"
            ],
            "application/vnd.google.colaboratory.intrinsic+json": {
              "type": "string"
            }
          },
          "metadata": {},
          "execution_count": 67
        }
      ],
      "source": [
        "predict('Aplikasinya biasa saja')"
      ]
    },
    {
      "cell_type": "code",
      "execution_count": 68,
      "metadata": {
        "id": "MeFHRiqQpkbr",
        "colab": {
          "base_uri": "https://localhost:8080/",
          "height": 53
        },
        "outputId": "cb186900-3bf7-4689-984e-b81c34a41786"
      },
      "outputs": [
        {
          "output_type": "stream",
          "name": "stdout",
          "text": [
            "\u001b[1m1/1\u001b[0m \u001b[32m━━━━━━━━━━━━━━━━━━━━\u001b[0m\u001b[37m\u001b[0m \u001b[1m0s\u001b[0m 17ms/step\n"
          ]
        },
        {
          "output_type": "execute_result",
          "data": {
            "text/plain": [
              "'Positive'"
            ],
            "application/vnd.google.colaboratory.intrinsic+json": {
              "type": "string"
            }
          },
          "metadata": {},
          "execution_count": 68
        }
      ],
      "source": [
        "predict('Aplikasinya sangat mantap. Membantu pekerjaan')"
      ]
    }
  ],
  "metadata": {
    "accelerator": "GPU",
    "colab": {
      "gpuType": "T4",
      "toc_visible": true,
      "provenance": [],
      "include_colab_link": true
    },
    "kernelspec": {
      "display_name": "Python 3",
      "name": "python3"
    },
    "language_info": {
      "name": "python"
    }
  },
  "nbformat": 4,
  "nbformat_minor": 0
}